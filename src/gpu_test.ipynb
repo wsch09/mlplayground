{
 "cells": [
  {
   "cell_type": "code",
   "execution_count": 1,
   "id": "71a1e6c0-0c6f-4db7-af0a-f5c8bc16701a",
   "metadata": {},
   "outputs": [
    {
     "name": "stdout",
     "output_type": "stream",
     "text": [
      "PyTorch version: 2.5.1\n",
      "Is MPS (Metal Performance Shader) built? True\n",
      "Is MPS available? True\n",
      "Using device: mps\n"
     ]
    }
   ],
   "source": [
    "import torch\n",
    "import numpy as np\n",
    "import pandas as pd\n",
    "import sklearn\n",
    "import matplotlib.pyplot as plt\n",
    "\n",
    "print(f\"PyTorch version: {torch.__version__}\")\n",
    "\n",
    "# Check PyTorch has access to MPS (Metal Performance Shader, Apple's GPU architecture)\n",
    "print(f\"Is MPS (Metal Performance Shader) built? {torch.backends.mps.is_built()}\")\n",
    "print(f\"Is MPS available? {torch.backends.mps.is_available()}\")\n",
    "\n",
    "# Set the device      \n",
    "device = \"mps\" if torch.backends.mps.is_available() else \"cpu\"\n",
    "print(f\"Using device: {device}\")"
   ]
  },
  {
   "cell_type": "code",
   "execution_count": 2,
   "id": "353a1aaf-df75-4c3e-a8c0-aed2c69c894e",
   "metadata": {},
   "outputs": [
    {
     "data": {
      "text/plain": [
       "tensor([[0.3373, 0.1149, 0.3173,  ..., 0.6621, 0.6135, 0.4631],\n",
       "        [0.6120, 0.7784, 0.8647,  ..., 0.1937, 0.5945, 0.9279],\n",
       "        [0.4434, 0.9830, 0.2704,  ..., 0.9981, 0.9331, 0.3811],\n",
       "        ...,\n",
       "        [0.7090, 0.9314, 0.5353,  ..., 0.6251, 0.7391, 0.7208],\n",
       "        [0.6909, 0.0146, 0.7925,  ..., 0.9938, 0.3025, 0.7258],\n",
       "        [0.3547, 0.1860, 0.0936,  ..., 0.2528, 0.4623, 0.4550]],\n",
       "       device='mps:0')"
      ]
     },
     "execution_count": 2,
     "metadata": {},
     "output_type": "execute_result"
    }
   ],
   "source": [
    "import torch\n",
    "\n",
    "# Set the device\n",
    "device = \"mps\" if torch.backends.mps.is_available() else \"cpu\"\n",
    "\n",
    "# Create data and send it to the device\n",
    "x = torch.rand(size=(30, 40)).to(device)\n",
    "x"
   ]
  },
  {
   "cell_type": "code",
   "execution_count": null,
   "id": "f8db0678-ce71-4d37-b0c8-07fd3bd9a68f",
   "metadata": {},
   "outputs": [],
   "source": [
    "pip install torch torchvision sentence-transformers\n"
   ]
  },
  {
   "cell_type": "code",
   "execution_count": 20,
   "id": "99841c4e-79ca-4c4c-939a-c0c30100de47",
   "metadata": {},
   "outputs": [
    {
     "name": "stdout",
     "output_type": "stream",
     "text": [
      "input:  quit\n",
      "    value:   resigned\n",
      "    Similarity Score: 0.5703287720680237\n",
      "    value:   transferred\n",
      "    Similarity Score: 0.1986793875694275\n",
      "    value:   moved\n",
      "    Similarity Score: 0.2691118121147156\n"
     ]
    }
   ],
   "source": [
    "import torch\n",
    "from sentence_transformers import SentenceTransformer, util\n",
    "import pandas as pd\n",
    "import csv\n",
    "\n",
    "# Load a pre-trained model to generate sentence embeddings\n",
    "model = SentenceTransformer('all-MiniLM-L6-v2')\n",
    "\n",
    "def compare_strings(string1, string2):\n",
    "    # Encode the strings to get their embeddings\n",
    "    embeddings1 = model.encode(string1, convert_to_tensor=True)\n",
    "    embeddings2 = model.encode(string2, convert_to_tensor=True)\n",
    "    # Compute cosine similarity\n",
    "    cosine_scores = util.pytorch_cos_sim(embeddings1, embeddings2)\n",
    "    return cosine_scores.item()  # Return the similarity score\n",
    "\n",
    "\n",
    "inputstring = 'quit'\n",
    "print('input: ', inputstring)\n",
    "file = './testdata.csv'\n",
    "with open(file) as f:\n",
    "    reader = csv.reader(f, delimiter=\",\")\n",
    "    for i in reader:\n",
    "        print('    value: ', i[1])\n",
    "        similarity_score = compare_strings(inputstring, i[1])\n",
    "        print(f\"    Similarity Score: {similarity_score}\")\n",
    "\n",
    "\n"
   ]
  },
  {
   "cell_type": "code",
   "execution_count": null,
   "id": "6030d6b6-7c7c-470c-8c1b-030c6aa3eecd",
   "metadata": {},
   "outputs": [],
   "source": []
  }
 ],
 "metadata": {
  "kernelspec": {
   "display_name": "Python 3 (ipykernel)",
   "language": "python",
   "name": "python3"
  },
  "language_info": {
   "codemirror_mode": {
    "name": "ipython",
    "version": 3
   },
   "file_extension": ".py",
   "mimetype": "text/x-python",
   "name": "python",
   "nbconvert_exporter": "python",
   "pygments_lexer": "ipython3",
   "version": "3.12.7"
  }
 },
 "nbformat": 4,
 "nbformat_minor": 5
}
