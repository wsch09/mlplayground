{
 "cells": [
  {
   "cell_type": "code",
   "execution_count": 7,
   "metadata": {},
   "outputs": [
    {
     "name": "stdout",
     "output_type": "stream",
     "text": [
      "Anomalous data points:\n",
      "    emp_id  paygrade  country_code  payamount     paydate  anomaly\n",
      "41    E005       5.0           0.0     8800.0  12/09/2024       -1\n",
      "75    E008       4.0           1.0   150000.0  02/03/2025       -1\n",
      "92    E010       5.0           1.0   160000.0  12/23/2024       -1\n",
      "113   E012       3.0           1.0    88000.0  01/06/2025       -1\n",
      "134   E014       1.0           1.0    44000.0  01/20/2025       -1\n",
      "135   E014       1.0           1.0    49000.0  02/03/2025       -1\n",
      "143   E015       5.0           0.0    12000.0  01/06/2025       -1\n",
      "186   E019       1.0           0.0     1600.0  02/17/2025       -1\n",
      "\n",
      "Analysis for paygrade:\n",
      "Mean of normal data: 2.9947916666666665\n",
      "Mean of anomalous data: 3.125\n",
      "Standard deviation of normal data: 1.4011864674551373\n",
      "Standard deviation of anomalous data: 1.8850918886280925\n",
      "\n",
      "Analysis for country_code:\n",
      "Mean of normal data: 0.4947916666666667\n",
      "Mean of anomalous data: 0.625\n",
      "Standard deviation of normal data: 0.5012799933796008\n",
      "Standard deviation of anomalous data: 0.5175491695067657\n",
      "\n",
      "Analysis for payamount:\n",
      "Mean of normal data: 57803.645833333336\n",
      "Mean of anomalous data: 64175.0\n",
      "Standard deviation of normal data: 63485.59087240515\n",
      "Standard deviation of anomalous data: 62629.92780726206\n"
     ]
    }
   ],
   "source": [
    "import pandas as pd\n",
    "from sklearn.ensemble import IsolationForest\n",
    "from sklearn.impute import SimpleImputer\n",
    "\n",
    "# Load the payroll data\n",
    "df = pd.read_csv('../sample_files/payroll.csv')\n",
    "\n",
    "# Preprocess the data\n",
    "# Convert categorical data to numerical data\n",
    "df['country_code'] = df['country_code'].map({'USA': 0, 'India': 1})\n",
    "\n",
    "# Handle missing values by filling them with the mean of the column\n",
    "imputer = SimpleImputer(strategy='mean')\n",
    "df[['paygrade', 'country_code', 'payamount']] = imputer.fit_transform(df[['paygrade', 'country_code', 'payamount']])\n",
    "\n",
    "# Select features for anomaly detection\n",
    "features = ['paygrade', 'country_code', 'payamount']\n",
    "\n",
    "# Train the Isolation Forest model\n",
    "model = IsolationForest(contamination=0.05, random_state=42)\n",
    "df['anomaly'] = model.fit_predict(df[features])\n",
    "\n",
    "# Anomalies are indicated by -1, normal data by 1\n",
    "anomalies = df[df['anomaly'] == -1]\n",
    "normal_data = df[df['anomaly'] == 1]\n",
    "\n",
    "print(\"Anomalous data points:\")\n",
    "print(anomalies)\n",
    "\n",
    "# Analyze why the data points are considered anomalous\n",
    "for feature in features:\n",
    "    print(f\"\\nAnalysis for {feature}:\")\n",
    "    print(f\"Mean of normal data: {normal_data[feature].mean()}\")\n",
    "    print(f\"Mean of anomalous data: {anomalies[feature].mean()}\")\n",
    "    print(f\"Standard deviation of normal data: {normal_data[feature].std()}\")\n",
    "    print(f\"Standard deviation of anomalous data: {anomalies[feature].std()}\")"
   ]
  }
 ],
 "metadata": {
  "kernelspec": {
   "display_name": "base",
   "language": "python",
   "name": "python3"
  },
  "language_info": {
   "codemirror_mode": {
    "name": "ipython",
    "version": 3
   },
   "file_extension": ".py",
   "mimetype": "text/x-python",
   "name": "python",
   "nbconvert_exporter": "python",
   "pygments_lexer": "ipython3",
   "version": "3.12.7"
  }
 },
 "nbformat": 4,
 "nbformat_minor": 2
}
